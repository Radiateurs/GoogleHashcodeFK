{
 "cells": [
  {
   "cell_type": "code",
   "execution_count": 3,
   "metadata": {},
   "outputs": [
    {
     "name": "stdout",
     "output_type": "stream",
     "text": [
      "The autoreload extension is already loaded. To reload it, use:\n",
      "  %reload_ext autoreload\n"
     ]
    },
    {
     "ename": "ImportError",
     "evalue": "No module named utils",
     "output_type": "error",
     "traceback": [
      "\u001b[1;31m---------------------------------------------------------------------------\u001b[0m",
      "\u001b[1;31mImportError\u001b[0m                               Traceback (most recent call last)",
      "\u001b[1;32m<ipython-input-3-284c24a53ab2>\u001b[0m in \u001b[0;36m<module>\u001b[1;34m()\u001b[0m\n\u001b[0;32m      3\u001b[0m \u001b[0mget_ipython\u001b[0m\u001b[1;33m(\u001b[0m\u001b[1;33m)\u001b[0m\u001b[1;33m.\u001b[0m\u001b[0mmagic\u001b[0m\u001b[1;33m(\u001b[0m\u001b[1;34mu'autoreload 2'\u001b[0m\u001b[1;33m)\u001b[0m\u001b[1;33m\u001b[0m\u001b[0m\n\u001b[0;32m      4\u001b[0m \u001b[1;32mfrom\u001b[0m \u001b[0minput\u001b[0m \u001b[1;32mimport\u001b[0m \u001b[0mread_inputs\u001b[0m\u001b[1;33m\u001b[0m\u001b[0m\n\u001b[1;32m----> 5\u001b[1;33m \u001b[1;32mimport\u001b[0m \u001b[0mutils\u001b[0m \u001b[1;32mas\u001b[0m \u001b[0mult\u001b[0m\u001b[1;33m\u001b[0m\u001b[0m\n\u001b[0m\u001b[0;32m      6\u001b[0m \u001b[1;32mimport\u001b[0m \u001b[0mnumpy\u001b[0m \u001b[1;32mas\u001b[0m \u001b[0mnp\u001b[0m\u001b[1;33m\u001b[0m\u001b[0m\n\u001b[0;32m      7\u001b[0m \u001b[1;33m\u001b[0m\u001b[0m\n",
      "\u001b[1;31mImportError\u001b[0m: No module named utils"
     ]
    }
   ],
   "source": [
    "%matplotlib inline\n",
    "%load_ext autoreload\n",
    "%autoreload 2\n",
    "from input import read_inputs\n",
    "import utlis as ult\n",
    "import numpy as np\n",
    "\n",
    "def get_distance(vehicle, ride):\n",
    "    return max(vehicle[0], ride[0]) - min(vehicle[0], ride[0]) + (max(vehicle[1], ride[1]) - min(vehicle[1], ride[1]))\n",
    "\n",
    "def give_a_ride(vehicle, mat):\n",
    "    nearestID = ult.nearest_ride(vehicle, mat)\n",
    "    distance = get_distance(vehicle, mat[nearestID])\n",
    "    return 1, nearestID, distance\n",
    "\n",
    "mat, rows, col, nb_vehicle, ride, bonus, steps = read_inputs(\"./a_example.in\")\n",
    "\n",
    "vehicles = np.zeros((nb_vehicle, 5))\n",
    "sort = sort_rides(mat)\n",
    "vehicles_history = []\n",
    "while (steps != 0 or sort.shape[0] != 0):\n",
    "    for i, vehicle in enumerate(vehicles):\n",
    "        if vehicle[2] == 0:\n",
    "            try:\n",
    "                vehicle[2], vehicle[3], vehicle[4] = give_a_ride(vehicle, sort)\n",
    "                print(\"Vehicle \" + i + \" tooked the ride \" + vehicle[3])\n",
    "                vehicles_history[i].append(vehicle[3])\n",
    "                sort = np.delete(sort, vehicle[3], 0)\n",
    "            except Exception:\n",
    "                pass\n",
    "        else:\n",
    "            vehicle[4] -= 0\n",
    "            if vehicle[4] == 0:\n",
    "                vehicle[2] = 0\n",
    "    steps -= 1\n",
    "    "
   ]
  },
  {
   "cell_type": "code",
   "execution_count": null,
   "metadata": {},
   "outputs": [],
   "source": []
  }
 ],
 "metadata": {
  "kernelspec": {
   "display_name": "Python 2",
   "language": "python",
   "name": "python2"
  },
  "language_info": {
   "codemirror_mode": {
    "name": "ipython",
    "version": 2
   },
   "file_extension": ".py",
   "mimetype": "text/x-python",
   "name": "python",
   "nbconvert_exporter": "python",
   "pygments_lexer": "ipython2",
   "version": "2.7.14"
  }
 },
 "nbformat": 4,
 "nbformat_minor": 2
}
