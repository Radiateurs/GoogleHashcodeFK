{
 "cells": [
  {
   "cell_type": "code",
   "execution_count": 1,
   "metadata": {},
   "outputs": [],
   "source": [
    "%matplotlib inline\n",
    "%load_ext autoreload\n",
    "%autoreload 2\n",
    "import input as i"
   ]
  },
  {
   "cell_type": "code",
   "execution_count": 2,
   "metadata": {},
   "outputs": [
    {
     "ename": "ImportError",
     "evalue": "No module named utlis",
     "output_type": "error",
     "traceback": [
      "\u001b[0;31m---------------------------------------------------------------------------\u001b[0m",
      "\u001b[0;31mImportError\u001b[0m                               Traceback (most recent call last)",
      "\u001b[0;32m<ipython-input-2-fca44f6a63f1>\u001b[0m in \u001b[0;36m<module>\u001b[0;34m()\u001b[0m\n\u001b[1;32m      1\u001b[0m \u001b[0;32mimport\u001b[0m \u001b[0mnumpy\u001b[0m \u001b[0;32mas\u001b[0m \u001b[0mnp\u001b[0m\u001b[0;34m\u001b[0m\u001b[0m\n\u001b[0;32m----> 2\u001b[0;31m \u001b[0;32mimport\u001b[0m \u001b[0mutlis\u001b[0m \u001b[0;32mas\u001b[0m \u001b[0mut\u001b[0m\u001b[0;34m\u001b[0m\u001b[0m\n\u001b[0m\u001b[1;32m      3\u001b[0m \u001b[0;34m\u001b[0m\u001b[0m\n\u001b[1;32m      4\u001b[0m \u001b[0;34m\u001b[0m\u001b[0m\n\u001b[1;32m      5\u001b[0m \u001b[0;32mdef\u001b[0m \u001b[0mjerem_fun\u001b[0m\u001b[0;34m(\u001b[0m\u001b[0mmat\u001b[0m\u001b[0;34m,\u001b[0m \u001b[0mrows\u001b[0m\u001b[0;34m,\u001b[0m \u001b[0mcolumns\u001b[0m\u001b[0;34m,\u001b[0m \u001b[0mvehicles\u001b[0m\u001b[0;34m,\u001b[0m \u001b[0mrides\u001b[0m\u001b[0;34m,\u001b[0m \u001b[0mbonus\u001b[0m\u001b[0;34m,\u001b[0m \u001b[0msteps\u001b[0m\u001b[0;34m)\u001b[0m\u001b[0;34m:\u001b[0m\u001b[0;34m\u001b[0m\u001b[0m\n",
      "\u001b[0;31mImportError\u001b[0m: No module named utlis"
     ]
    }
   ],
   "source": [
    "import numpy as np\n",
    "import utlis as ut\n",
    "\n",
    "\n",
    "def jerem_fun(mat, rows, columns, vehicles, rides, bonus, steps):\n",
    "    disttt =0\n",
    "    vrid = []\n",
    "    for i in range(vehicles):\n",
    "        ve = [[0, 0], []]  # vehicle posx,y, (ridex,y , timeb,e)\n",
    "        vrid.append(ve)\n",
    "    ok = False\n",
    "    #print vrid\n",
    "    vehiok = np.ones(vehicles)\n",
    "    notfirst = False\n",
    "    while vehiok.any() and mat.size != 0:  # check\n",
    "        for v in range(vehicles):\n",
    "           # print '--------------vehicule' +str(v)\n",
    "            if vehiok[v]:\n",
    "                for irid in range(rides):\n",
    "                    #print irid\n",
    "                    num,distrout,distbe,timv,etimu,erid,vrid,btimu = ext(mat,irid,notfirst,vrid,v)\n",
    "                    if distbe + timv == btimu:\n",
    "                        #print 'ok'\n",
    "                        #print '----take :' +str(num) \n",
    "                        vrid[v][1].append([num, btimu + distrout])\n",
    "                        vrid[v][0] = erid\n",
    "                        mat = np.delete(mat, irid,axis=0)  # bonne dim ?\n",
    "                        ok = True\n",
    "                        rides-=1\n",
    "                        break\n",
    "\n",
    "                if not ok:\n",
    "                    for irid in range(rides):\n",
    "                        #print '-----------second trial'\n",
    "                        num,distrout,distbe,timv,etimu,erid,vrid,btimu = ext(mat,irid,notfirst,vrid,v)\n",
    "                        if distbe + timv + distrout < etimu:\n",
    "                            vrid[v][1].append([num, distbe + timv + distrout])\n",
    "                            vrid[v][0] = erid\n",
    "                            mat = np.delete(mat, irid, axis=0)\n",
    "                            ok = True\n",
    "                           # print '----take :' +str(num) \n",
    "                            #print mat\n",
    "                            rides-=1\n",
    "                            #print 'ok'\n",
    "                            break\n",
    "\n",
    "                if not ok : \n",
    "                    for irid in range(rides):\n",
    "                        #print '------------third trial'\n",
    "                        num,distrout,distbe,timv,etimu,erid,vrid,btimu = ext(mat,irid,notfirst,vrid,v)\n",
    "                        if distbe + timv < btimu:\n",
    "                            vrid[v][1].append([num, btimu + distrout])\n",
    "                            vrid[v][0] = erid\n",
    "                            mat = np.delete(mat, irid,axis=0)\n",
    "                            ok = True\n",
    "                            rides-=1\n",
    "                           # print 'ok'\n",
    "                           # print '----take :' +str(num) \n",
    "                            break\n",
    "                if not ok:\n",
    "                    vehiok[v] = 0\n",
    "                else :\n",
    "                    ok = False\n",
    "                    disttt +=distrout\n",
    "        notfirst = True\n",
    "    return vrid, disttt\n",
    "def dist(b,a):\n",
    "    return abs((b[0]-a[0]) + (b[1]- a[1]))\n",
    "\n",
    "def ext(mat,irid,notfirst,vrid,v):\n",
    "    btimu = mat[irid, 2, 0]\n",
    "    brid = mat[irid, 0, :]\n",
    "    erid = mat[irid, 1, :]\n",
    "    etimu = mat[irid, 2, 1]\n",
    "    if notfirst:\n",
    "        timv = vrid[v][1][-1][1]\n",
    "    else: timv = 0\n",
    "    distbe = dist(brid, vrid[v][0])\n",
    "    distrout = dist(brid, erid)\n",
    "    num = mat[irid, 3, 0]\n",
    "    #print 'steps' + str(btimu)+','+str(etimu) \n",
    "    #print 'end rider' + str(erid)\n",
    "    #print 'distances to go and during ' + str(distbe)+','+str(distrout)\n",
    "    return num,distrout,distbe,timv,etimu,erid,vrid,btimu"
   ]
  },
  {
   "cell_type": "code",
   "execution_count": null,
   "metadata": {},
   "outputs": [],
   "source": [
    "mat, rows, columns, vehicles, rides, bonus, steps = i.read_inputs('c_no_hurry.in')\n",
    "mat = ut.sort_rides(mat)\n",
    "mat[0,3,0]"
   ]
  },
  {
   "cell_type": "code",
   "execution_count": null,
   "metadata": {},
   "outputs": [],
   "source": [
    "ve, tot = jerem_fun(mat, rows, columns, vehicles, rides, bonus, steps)"
   ]
  }
 ],
 "metadata": {
  "kernelspec": {
   "display_name": "Python 2",
   "language": "python",
   "name": "python2"
  },
  "language_info": {
   "codemirror_mode": {
    "name": "ipython",
    "version": 2
   },
   "file_extension": ".py",
   "mimetype": "text/x-python",
   "name": "python",
   "nbconvert_exporter": "python",
   "pygments_lexer": "ipython2",
   "version": "2.7.14"
  }
 },
 "nbformat": 4,
 "nbformat_minor": 2
}
