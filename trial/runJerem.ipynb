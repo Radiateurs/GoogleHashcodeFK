{
 "cells": [
  {
   "cell_type": "code",
   "execution_count": 10,
   "metadata": {},
   "outputs": [
    {
     "name": "stdout",
     "output_type": "stream",
     "text": [
      "The autoreload extension is already loaded. To reload it, use:\n",
      "  %reload_ext autoreload\n"
     ]
    }
   ],
   "source": [
    "%matplotlib inline\n",
    "%load_ext autoreload\n",
    "%autoreload 2\n",
    "import input as inp\n",
    "\n",
    "def get(mat, begin, end):\n",
    "    return mat[begin[0]:end[0],begin[1]:end[1]]"
   ]
  },
  {
   "cell_type": "code",
   "execution_count": 7,
   "metadata": {},
   "outputs": [
    {
     "ename": "SyntaxError",
     "evalue": "invalid syntax (<ipython-input-7-457f1ab8e07e>, line 13)",
     "output_type": "error",
     "traceback": [
      "\u001b[0;36m  File \u001b[0;32m\"<ipython-input-7-457f1ab8e07e>\"\u001b[0;36m, line \u001b[0;32m13\u001b[0m\n\u001b[0;31m    if Lct < L and mat[size + [1,0]]\u001b[0m\n\u001b[0m                                    ^\u001b[0m\n\u001b[0;31mSyntaxError\u001b[0m\u001b[0;31m:\u001b[0m invalid syntax\n"
     ]
    }
   ],
   "source": [
    "l, h, mat = inp.read_input('small.in')\n",
    "lct = 0\n",
    "lcm = 0\n",
    "Hc = 0\n",
    "mask = np.zeros(mat.shape)\n",
    "b = [0,0]\n",
    "e = [0,0]\n",
    "\n",
    "if cont\n",
    "matc = def get(mat, b, e)\n",
    "\n",
    "for i in matc:\n",
    "    print i\n",
    "    if i: Lct += 1 \n",
    "    else: Lcm += 1\n",
    "\n",
    "if lct > L and Lcm > L:\n",
    "    return \n",
    "    "
   ]
  },
  {
   "cell_type": "code",
   "execution_count": null,
   "metadata": {},
   "outputs": [],
   "source": []
  },
  {
   "cell_type": "code",
   "execution_count": null,
   "metadata": {},
   "outputs": [],
   "source": []
  }
 ],
 "metadata": {
  "kernelspec": {
   "display_name": "Python 2",
   "language": "python",
   "name": "python2"
  },
  "language_info": {
   "codemirror_mode": {
    "name": "ipython",
    "version": 2
   },
   "file_extension": ".py",
   "mimetype": "text/x-python",
   "name": "python",
   "nbconvert_exporter": "python",
   "pygments_lexer": "ipython2",
   "version": "2.7.14"
  }
 },
 "nbformat": 4,
 "nbformat_minor": 2
}
