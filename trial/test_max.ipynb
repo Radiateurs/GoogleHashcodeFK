{
 "cells": [
  {
   "cell_type": "code",
   "execution_count": 39,
   "metadata": {
    "collapsed": true
   },
   "outputs": [],
   "source": [
    "from input import read_input"
   ]
  },
  {
   "cell_type": "code",
   "execution_count": 41,
   "metadata": {},
   "outputs": [
    {
     "data": {
      "text/plain": [
       "('6', '14', array([[ True, False, False, ..., False,  True,  True],\n",
       "        [False,  True,  True, ...,  True, False, False],\n",
       "        [False,  True, False, ...,  True, False, False],\n",
       "        ..., \n",
       "        [ True, False, False, ..., False, False, False],\n",
       "        [False, False, False, ..., False,  True, False],\n",
       "        [ True,  True,  True, ...,  True,  True,  True]], dtype=bool))"
      ]
     },
     "execution_count": 41,
     "metadata": {},
     "output_type": "execute_result"
    }
   ],
   "source": [
    "read_input('big.in')"
   ]
  },
  {
   "cell_type": "code",
   "execution_count": 38,
   "metadata": {},
   "outputs": [
    {
     "name": "stdout",
     "output_type": "stream",
     "text": [
      "1 5\n"
     ]
    },
    {
     "data": {
      "text/plain": [
       "array([[ True, False, False, False,  True,  True,  True],\n",
       "       [False, False, False, False,  True, False, False],\n",
       "       [ True,  True, False,  True,  True, False,  True],\n",
       "       [ True, False, False,  True, False, False, False],\n",
       "       [ True,  True,  True,  True,  True,  True, False],\n",
       "       [ True,  True,  True,  True,  True,  True, False]], dtype=bool)"
      ]
     },
     "execution_count": 38,
     "metadata": {},
     "output_type": "execute_result"
    }
   ],
   "source": [
    "ingredients, area, pizza = read_input('small.in')\n",
    "pizza"
   ]
  },
  {
   "cell_type": "code",
   "execution_count": null,
   "metadata": {
    "collapsed": true
   },
   "outputs": [],
   "source": []
  }
 ],
 "metadata": {
  "kernelspec": {
   "display_name": "Python 3",
   "language": "python",
   "name": "python3"
  },
  "language_info": {
   "codemirror_mode": {
    "name": "ipython",
    "version": 3
   },
   "file_extension": ".py",
   "mimetype": "text/x-python",
   "name": "python",
   "nbconvert_exporter": "python",
   "pygments_lexer": "ipython3",
   "version": "3.6.3"
  }
 },
 "nbformat": 4,
 "nbformat_minor": 2
}
