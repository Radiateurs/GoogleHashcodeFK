{
 "cells": [
  {
   "cell_type": "code",
   "execution_count": 1,
   "metadata": {
    "scrolled": true
   },
   "outputs": [],
   "source": [
    "import numpy as np\n",
    "from input import read_inputs"
   ]
  },
  {
   "cell_type": "code",
   "execution_count": 27,
   "metadata": {},
   "outputs": [],
   "source": [
    "def sort_rides(rides):\n",
    "    def sorter(ride):\n",
    "        return (ride[2][0], 1 / dist(ride[RIDE_END_POS], ride[RIDE_START_POS]))\n",
    "    \n",
    "    return np.array(sorted([r for r in rides], key=sorter))"
   ]
  },
  {
   "cell_type": "code",
   "execution_count": 3,
   "metadata": {
    "collapsed": true
   },
   "outputs": [],
   "source": [
    "RIDE_START_POS = 0\n",
    "RIDE_END_POS = 1\n",
    "RIDE_START_T = (2, 0)\n",
    "RIDE_END_T = (2, 1)\n",
    "RIDE_IDX = (3, 0)"
   ]
  },
  {
   "cell_type": "code",
   "execution_count": 4,
   "metadata": {},
   "outputs": [],
   "source": [
    "# car: POS, TIME, CURRENT_RIDE\n",
    "CAR_POS = 0\n",
    "CAR_TIME = 1\n",
    "CAR_RIDE_HISTORY = 2"
   ]
  },
  {
   "cell_type": "code",
   "execution_count": 5,
   "metadata": {
    "collapsed": true
   },
   "outputs": [],
   "source": [
    "def dist(pos1, pos2):\n",
    "    return abs(pos1[0] - pos2[0]) + abs(pos1[1] - pos2[1])"
   ]
  },
  {
   "cell_type": "code",
   "execution_count": 6,
   "metadata": {},
   "outputs": [],
   "source": [
    "def is_ride_possible(ride, car):\n",
    "    start_dist = dist(car[CAR_POS], ride[RIDE_START_POS])\n",
    "    ride_dist = dist(ride[RIDE_START_POS], ride[RIDE_END_POS])\n",
    "    \n",
    "#    if ride[RIDE_START_T] - car[CAR_TIME] < start_dist:\n",
    "#        return False\n",
    "    if car[CAR_TIME] + start_dist + ride_dist > ride[RIDE_END_T]:\n",
    "        return False\n",
    "    return True\n",
    "\n",
    "def is_ride_perfect(ride, car):\n",
    "    start_dist = dist(car[CAR_POS], ride[RIDE_START_POS])\n",
    "    ride_dist = dist(ride[RIDE_START_POS], ride[RIDE_END_POS])\n",
    "    \n",
    "    if ride[RIDE_START_T] - car[CAR_TIME] < start_dist:\n",
    "        return False\n",
    "    if car[CAR_TIME] + start_dist + ride_dist > ride[RIDE_END_T]:\n",
    "        return False\n",
    "    return True\n"
   ]
  },
  {
   "cell_type": "code",
   "execution_count": 7,
   "metadata": {
    "collapsed": true
   },
   "outputs": [],
   "source": [
    "# take the rides, the cars, a ride number and a car number\n",
    "def do_ride(rides, cars, ride_nb, car_nb):\n",
    "    if not is_ride_possible(rides[ride_nb], cars[car_nb]):\n",
    "        raise ValueError('Fuck')\n",
    "    \n",
    "    # print 'Car {} does ride {}'.format(car_nb, ride_nb)\n",
    "\n",
    "    start_dist = dist(cars[car_nb][CAR_POS], rides[ride_nb][RIDE_START_POS])\n",
    "    ride_dist = dist(rides[ride_nb][RIDE_START_POS], rides[ride_nb][RIDE_END_POS])\n",
    "    \n",
    "    cars[car_nb][CAR_RIDE_HISTORY].append(rides[ride_nb][RIDE_IDX])\n",
    "    cars[car_nb][CAR_TIME] = max(rides[ride_nb][RIDE_START_T], cars[car_nb][CAR_TIME] + start_dist) + ride_dist\n",
    "    new_rides = np.delete(rides, ride_nb, 0)\n",
    "    return new_rides, cars"
   ]
  },
  {
   "cell_type": "code",
   "execution_count": 8,
   "metadata": {
    "scrolled": true
   },
   "outputs": [],
   "source": [
    "def find_possible_rides(rides, car):\n",
    "    return np.array([r for r in rides if is_ride_possible(r, car)])\n",
    "\n",
    "def find_perfect_rides(rides, car):\n",
    "    return np.array([r for r in rides if is_ride_perfect(r, car)])"
   ]
  },
  {
   "cell_type": "code",
   "execution_count": 29,
   "metadata": {
    "collapsed": true
   },
   "outputs": [],
   "source": [
    "def run_algo(filename, outfilename):\n",
    "    rides, rows, columns, vehicles, nb_rides, bonus, steps = read_inputs(filename)\n",
    "    \n",
    "    cars = []\n",
    "    for i in range(vehicles):\n",
    "        cars.append([(0, 0), 0, []])\n",
    "\n",
    "    sorted_rides = sort_rides(rides)\n",
    "    for car_nb, car in enumerate(cars):\n",
    "        while len(find_possible_rides(sorted_rides, car)) > 0:\n",
    "            if len(find_perfect_rides(sorted_rides, car)) > 0:\n",
    "                for ride_nb, ride in enumerate(sorted_rides):\n",
    "                    if is_ride_perfect(ride, car): \n",
    "                        sorted_rides, cars = do_ride(sorted_rides, cars, ride_nb, car_nb)\n",
    "                        break\n",
    "            else:\n",
    "                for ride_nb, ride in enumerate(sorted_rides):\n",
    "                    if is_ride_possible(ride, car): \n",
    "                        sorted_rides, cars = do_ride(sorted_rides, cars, ride_nb, car_nb)\n",
    "                        break\n",
    "                    \n",
    "    with open(outfilename, 'w') as out:\n",
    "        for c in cars:\n",
    "            out.write(' '.join([str(len(c[CAR_RIDE_HISTORY]))] + [str(int(v)) for v in c[CAR_RIDE_HISTORY]]) + '\\n')"
   ]
  },
  {
   "cell_type": "code",
   "execution_count": 18,
   "metadata": {
    "collapsed": true
   },
   "outputs": [],
   "source": [
    "def run_algo(filename, outfilename):\n",
    "    rides, rows, columns, vehicles, nb_rides, bonus, steps = read_inputs(filename)\n",
    "    \n",
    "    cars = []\n",
    "    for i in range(vehicles):\n",
    "        cars.append([(0, 0), 0, []])\n",
    "        \n",
    "    over = False\n",
    "    sorted_rides = sort_rides(rides)\n",
    "    while not over:\n",
    "        over = True\n",
    "        for car_nb, car in enumerate(cars):\n",
    "            if len(find_possible_rides(sorted_rides, car)) > 0:\n",
    "                over = False\n",
    "                if len(find_perfect_rides(sorted_rides, car)) > 0:\n",
    "                    for ride_nb, ride in enumerate(sorted_rides):\n",
    "                        if is_ride_perfect(ride, car): \n",
    "                            sorted_rides, cars = do_ride(sorted_rides, cars, ride_nb, car_nb)\n",
    "                            break\n",
    "                else:\n",
    "                    for ride_nb, ride in enumerate(sorted_rides):\n",
    "                        if is_ride_possible(ride, car): \n",
    "                            sorted_rides, cars = do_ride(sorted_rides, cars, ride_nb, car_nb)\n",
    "                            break\n",
    "                    \n",
    "    with open(outfilename, 'w') as out:\n",
    "        for c in cars:\n",
    "            out.write(' '.join([str(len(c[CAR_RIDE_HISTORY]))] + [str(int(v)) for v in c[CAR_RIDE_HISTORY]]) + '\\n')"
   ]
  },
  {
   "cell_type": "code",
   "execution_count": 30,
   "metadata": {},
   "outputs": [
    {
     "name": "stdout",
     "output_type": "stream",
     "text": [
      "d done\n",
      "c done\n",
      "b done\n",
      "a done\n"
     ]
    }
   ],
   "source": [
    "run_algo('d_metropolis.in', 'output/d.txt')\n",
    "print 'd done'\n",
    "run_algo('c_no_hurry.in', 'output/c.txt')\n",
    "print 'c done'\n",
    "run_algo('b_should_be_easy.in', 'output/b.txt')\n",
    "print 'b done'\n",
    "run_algo('a_example.in', 'output/a.txt')\n",
    "print 'a done'\n"
   ]
  },
  {
   "cell_type": "code",
   "execution_count": 24,
   "metadata": {
    "collapsed": true
   },
   "outputs": [],
   "source": [
    "a = [[1, 1], [1, 0], [1, 4]]"
   ]
  },
  {
   "cell_type": "code",
   "execution_count": 25,
   "metadata": {},
   "outputs": [
    {
     "data": {
      "text/plain": [
       "[[1, 0], [1, 1], [1, 4]]"
      ]
     },
     "execution_count": 25,
     "metadata": {},
     "output_type": "execute_result"
    }
   ],
   "source": [
    "sorted(a)"
   ]
  },
  {
   "cell_type": "code",
   "execution_count": null,
   "metadata": {
    "collapsed": true
   },
   "outputs": [],
   "source": []
  }
 ],
 "metadata": {
  "kernelspec": {
   "display_name": "Python 2",
   "language": "python",
   "name": "python2"
  },
  "language_info": {
   "codemirror_mode": {
    "name": "ipython",
    "version": 2
   },
   "file_extension": ".py",
   "mimetype": "text/x-python",
   "name": "python",
   "nbconvert_exporter": "python",
   "pygments_lexer": "ipython2",
   "version": "2.7.14"
  }
 },
 "nbformat": 4,
 "nbformat_minor": 2
}
