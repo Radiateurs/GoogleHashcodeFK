{
 "cells": [
  {
   "cell_type": "code",
   "execution_count": 29,
   "metadata": {},
   "outputs": [],
   "source": [
    "%matplotlib inline\n",
    "%load_ext autoreload\n",
    "%autoreload 2\n",
    "import input as i"
   ]
  },
  {
   "cell_type": "code",
   "execution_count": 66,
   "metadata": {},
   "outputs": [
    {
     "ename": "ImportError",
     "evalue": "No module named utlis",
     "output_type": "error",
     "traceback": [
      "\u001b[0;31m---------------------------------------------------------------------------\u001b[0m",
      "\u001b[0;31mImportError\u001b[0m                               Traceback (most recent call last)",
      "\u001b[0;32m<ipython-input-66-d2caccae907f>\u001b[0m in \u001b[0;36m<module>\u001b[0;34m()\u001b[0m\n\u001b[1;32m      1\u001b[0m \u001b[0;32mimport\u001b[0m \u001b[0mnumpy\u001b[0m \u001b[0;32mas\u001b[0m \u001b[0mnp\u001b[0m\u001b[0;34m\u001b[0m\u001b[0m\n\u001b[0;32m----> 2\u001b[0;31m \u001b[0;32mimport\u001b[0m \u001b[0mutlis\u001b[0m \u001b[0;32mas\u001b[0m \u001b[0mut\u001b[0m\u001b[0;34m\u001b[0m\u001b[0m\n\u001b[0m\u001b[1;32m      3\u001b[0m \u001b[0;34m\u001b[0m\u001b[0m\n\u001b[1;32m      4\u001b[0m \u001b[0;34m\u001b[0m\u001b[0m\n\u001b[1;32m      5\u001b[0m \u001b[0;32mdef\u001b[0m \u001b[0mjerem_fun\u001b[0m\u001b[0;34m(\u001b[0m\u001b[0mmat\u001b[0m\u001b[0;34m,\u001b[0m \u001b[0mrows\u001b[0m\u001b[0;34m,\u001b[0m \u001b[0mcolumns\u001b[0m\u001b[0;34m,\u001b[0m \u001b[0mvehicles\u001b[0m\u001b[0;34m,\u001b[0m \u001b[0mrides\u001b[0m\u001b[0;34m,\u001b[0m \u001b[0mbonus\u001b[0m\u001b[0;34m,\u001b[0m \u001b[0msteps\u001b[0m\u001b[0;34m)\u001b[0m\u001b[0;34m:\u001b[0m\u001b[0;34m\u001b[0m\u001b[0m\n",
      "\u001b[0;31mImportError\u001b[0m: No module named utlis"
     ]
    }
   ],
   "source": [
    "import numpy as np\n",
    "import utlis as ut\n",
    "\n",
    "\n",
    "def jerem_fun(mat, rows, columns, vehicles, rides, bonus, steps):\n",
    "\n",
    "    mat = ut.sort_rides(mat)\n",
    "    vrid = []\n",
    "    for i in range(vehicles):\n",
    "        ve = [[0, 0], []]  # vehicle posx,y, (ridex,y , timeb,e)\n",
    "        vrid.append(ve)\n",
    "    ok = False\n",
    "    vehiok = np.ones(vehicles)\n",
    "    while vehiok.any() and mat.size != 0:  # check\n",
    "        for v in range(vehicles):\n",
    "            if vehiok[v]:\n",
    "                for irid in range(rides):\n",
    "                    btimu = mat[irid, 2, 0]\n",
    "                    brid = mat[irid, 0, :]\n",
    "                    erid = mat[irid, 1, :]\n",
    "                    etimu = mat[irid, 2, 1]\n",
    "                    timv = vrid[v][-1][1][1]\n",
    "                    distbe = dist(brid, vrid[v][0])\n",
    "                    distrout = dist(brid, erid)\n",
    "                    num = mat[irid, 3, 0]\n",
    "                    if distbe + timv == beg:\n",
    "                        vrid[v][1].append([brid, [distbe + timv, distbe + timv + distrout], num])\n",
    "                        vrid[v][0] = erid\n",
    "                        mat = np.delete(mat, i)  # bonne dim ?\n",
    "                        ok = True\n",
    "                        break\n",
    "\n",
    "                if not ok:\n",
    "                    for irid in range(rides):\n",
    "                        btimu = mat[irid, 2, 0]\n",
    "                        brid = mat[irid, 0, :]\n",
    "                        erid = mat[irid, 1, :]\n",
    "                        etimu = mat[irid, 2, 1]\n",
    "                        timv = vrid[v][-1][1][1]\n",
    "                        distbe = dist(brid, vrid[v][0])\n",
    "                        distrout = dist(brid, erid)\n",
    "                        num = mat[irid, 3, 0]\n",
    "                        if distbe + timv == beg:\n",
    "                            vrid[v][1].append([brid, [distbe + timv, distbe + timv + distrout], num])\n",
    "                            vrid[v][0] = erid\n",
    "                            mat = np.delete(mat, i)\n",
    "                            ok = True\n",
    "                            break\n",
    "\n",
    "                if not ok : \n",
    "                    for irid in range(rides):\n",
    "                        btimu = mat[irid, 2, 0]\n",
    "                        brid = mat[irid, 0, :]\n",
    "                        erid = mat[irid, 1, :]\n",
    "                        etimu = mat[irid, 2, 1]\n",
    "                        timv = vrid[v][-1][1][1]\n",
    "                        distbe = dist(brid, vrid[v][0])\n",
    "                        distrout = dist(brid, erid)\n",
    "                        num = mat[irid, 3, 0]\n",
    "                        if distbe + timv == beg:\n",
    "                            vrid[v][1].append([brid, [distbe + timv, distbe + timv + distrout],num])\n",
    "                            vrid[v][0] = erid\n",
    "                            mat = np.delete(mat, i)\n",
    "                            ok = True\n",
    "                            break\n",
    "                if not ok:\n",
    "                    vehiok[v] = 0\n",
    "                else :\n",
    "                    ok = False\n",
    "\n",
    "    return ve\n",
    "def dist(a,b):\n",
    "    return (b[0]-a[0]) + (b[1]- a[1])"
   ]
  },
  {
   "cell_type": "code",
   "execution_count": 40,
   "metadata": {},
   "outputs": [],
   "source": [
    "mat, rows, columns, vehicles, rides, bonus, steps = i.read_inputs('b_should_be_easy.in')"
   ]
  },
  {
   "cell_type": "code",
   "execution_count": 44,
   "metadata": {},
   "outputs": [
    {
     "data": {
      "text/plain": [
       "array([[[  3.00000000e+00,   1.00000000e+00],\n",
       "        [  5.00000000e+00,   3.00000000e+00],\n",
       "        [  1.86000000e+02,   6.56000000e+02]],\n",
       "\n",
       "       [[  6.00000000e+00,   3.00000000e+00],\n",
       "        [  6.00000000e+00,   4.00000000e+00],\n",
       "        [  2.08000000e+02,   7.12000000e+02]],\n",
       "\n",
       "       [[  2.00000000e+01,   3.00000000e+00],\n",
       "        [  1.00000000e+01,   6.00000000e+00],\n",
       "        [  2.28000000e+02,   1.23900000e+03]],\n",
       "\n",
       "       ..., \n",
       "       [[  7.89000000e+02,   9.75000000e+02],\n",
       "        [  7.98000000e+02,   9.92000000e+02],\n",
       "        [  2.44320000e+04,   2.49520000e+04]],\n",
       "\n",
       "       [[  7.90000000e+02,   9.80000000e+02],\n",
       "        [  7.99000000e+02,   9.95000000e+02],\n",
       "        [  2.44440000e+04,   2.49590000e+04]],\n",
       "\n",
       "       [[  7.95000000e+02,   9.85000000e+02],\n",
       "        [  7.99000000e+02,   9.97000000e+02],\n",
       "        [  2.44530000e+04,   2.49990000e+04]]])"
      ]
     },
     "execution_count": 44,
     "metadata": {},
     "output_type": "execute_result"
    }
   ],
   "source": [
    "mat\n",
    "np.sort(mat, axis=0)"
   ]
  },
  {
   "cell_type": "code",
   "execution_count": 18,
   "metadata": {},
   "outputs": [
    {
     "data": {
      "text/plain": [
       "3"
      ]
     },
     "execution_count": 18,
     "metadata": {},
     "output_type": "execute_result"
    }
   ],
   "source": [
    "rows"
   ]
  },
  {
   "cell_type": "code",
   "execution_count": 63,
   "metadata": {},
   "outputs": [],
   "source": [
    "ve = [[0,0],[]]"
   ]
  },
  {
   "cell_type": "code",
   "execution_count": 64,
   "metadata": {},
   "outputs": [
    {
     "data": {
      "text/plain": [
       "[[0, 0], []]"
      ]
     },
     "execution_count": 64,
     "metadata": {},
     "output_type": "execute_result"
    }
   ],
   "source": [
    "ve"
   ]
  },
  {
   "cell_type": "code",
   "execution_count": null,
   "metadata": {},
   "outputs": [],
   "source": []
  }
 ],
 "metadata": {
  "kernelspec": {
   "display_name": "Python 2",
   "language": "python",
   "name": "python2"
  },
  "language_info": {
   "codemirror_mode": {
    "name": "ipython",
    "version": 2
   },
   "file_extension": ".py",
   "mimetype": "text/x-python",
   "name": "python",
   "nbconvert_exporter": "python",
   "pygments_lexer": "ipython2",
   "version": "2.7.14"
  }
 },
 "nbformat": 4,
 "nbformat_minor": 2
}
