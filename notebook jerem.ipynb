{
 "cells": [
  {
   "cell_type": "code",
   "execution_count": 29,
   "metadata": {},
   "outputs": [],
   "source": [
    "%matplotlib inline\n",
    "%load_ext autoreload\n",
    "%autoreload 2\n",
    "import input as i\n",
    "import numpy as np"
   ]
  },
  {
   "cell_type": "code",
   "execution_count": 36,
   "metadata": {},
   "outputs": [],
   "source": [
    "def read_inputs(filename):\n",
    "\n",
    "    with open(filename, 'r') as file:\n",
    "        header = file.readline()\n",
    "        rows = int(header.split()[0])\n",
    "        columns = int(header.split()[1])\n",
    "        vehicles = int(header.split()[2])\n",
    "        rides = int(header.split()[3])\n",
    "        bonus = int(header.split()[4])\n",
    "        steps = int(header.split()[5])\n",
    "        mat = np.zeros((rides, 3, 2))\n",
    "        for i in range(rides):\n",
    "            line = file.readline()\n",
    "            mat[i, 0, :] = (int(line.split()[0]), int(line.split()[1]))\n",
    "            mat[i, 1, :] = (int(line.split()[2]), int(line.split()[3]))\n",
    "            mat[i, 2, :] = (int(line.split()[4]), int(line.split()[5]))\n",
    "    return mat, rows, columns, vehicles, rides, bonus, steps"
   ]
  },
  {
   "cell_type": "code",
   "execution_count": 40,
   "metadata": {},
   "outputs": [],
   "source": [
    "mat, rows, columns, vehicles, rides, bonus, steps = read_inputs('b_should_be_easy.in')"
   ]
  },
  {
   "cell_type": "code",
   "execution_count": 44,
   "metadata": {},
   "outputs": [
    {
     "data": {
      "text/plain": [
       "array([[[  3.00000000e+00,   1.00000000e+00],\n",
       "        [  5.00000000e+00,   3.00000000e+00],\n",
       "        [  1.86000000e+02,   6.56000000e+02]],\n",
       "\n",
       "       [[  6.00000000e+00,   3.00000000e+00],\n",
       "        [  6.00000000e+00,   4.00000000e+00],\n",
       "        [  2.08000000e+02,   7.12000000e+02]],\n",
       "\n",
       "       [[  2.00000000e+01,   3.00000000e+00],\n",
       "        [  1.00000000e+01,   6.00000000e+00],\n",
       "        [  2.28000000e+02,   1.23900000e+03]],\n",
       "\n",
       "       ..., \n",
       "       [[  7.89000000e+02,   9.75000000e+02],\n",
       "        [  7.98000000e+02,   9.92000000e+02],\n",
       "        [  2.44320000e+04,   2.49520000e+04]],\n",
       "\n",
       "       [[  7.90000000e+02,   9.80000000e+02],\n",
       "        [  7.99000000e+02,   9.95000000e+02],\n",
       "        [  2.44440000e+04,   2.49590000e+04]],\n",
       "\n",
       "       [[  7.95000000e+02,   9.85000000e+02],\n",
       "        [  7.99000000e+02,   9.97000000e+02],\n",
       "        [  2.44530000e+04,   2.49990000e+04]]])"
      ]
     },
     "execution_count": 44,
     "metadata": {},
     "output_type": "execute_result"
    }
   ],
   "source": [
    "mat\n",
    "np.sort(mat, axis=0)"
   ]
  },
  {
   "cell_type": "code",
   "execution_count": 18,
   "metadata": {},
   "outputs": [
    {
     "data": {
      "text/plain": [
       "3"
      ]
     },
     "execution_count": 18,
     "metadata": {},
     "output_type": "execute_result"
    }
   ],
   "source": [
    "rows"
   ]
  },
  {
   "cell_type": "code",
   "execution_count": 63,
   "metadata": {},
   "outputs": [],
   "source": [
    "ve = [[0,0],[]]"
   ]
  },
  {
   "cell_type": "code",
   "execution_count": 64,
   "metadata": {},
   "outputs": [
    {
     "data": {
      "text/plain": [
       "[[0, 0], []]"
      ]
     },
     "execution_count": 64,
     "metadata": {},
     "output_type": "execute_result"
    }
   ],
   "source": [
    "ve"
   ]
  },
  {
   "cell_type": "code",
   "execution_count": null,
   "metadata": {},
   "outputs": [],
   "source": []
  }
 ],
 "metadata": {
  "kernelspec": {
   "display_name": "Python 2",
   "language": "python",
   "name": "python2"
  },
  "language_info": {
   "codemirror_mode": {
    "name": "ipython",
    "version": 2
   },
   "file_extension": ".py",
   "mimetype": "text/x-python",
   "name": "python",
   "nbconvert_exporter": "python",
   "pygments_lexer": "ipython2",
   "version": "2.7.14"
  }
 },
 "nbformat": 4,
 "nbformat_minor": 2
}
